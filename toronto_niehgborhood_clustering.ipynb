{
 "cells": [
  {
   "cell_type": "markdown",
   "metadata": {},
   "source": [
    "Importing some libraries"
   ]
  },
  {
   "cell_type": "code",
   "execution_count": 391,
   "metadata": {},
   "outputs": [],
   "source": [
    "import pandas as pd"
   ]
  },
  {
   "cell_type": "code",
   "execution_count": 392,
   "metadata": {},
   "outputs": [],
   "source": [
    "# URL of the data to be read from wiki\n",
    "url_data = 'https://en.wikipedia.org/wiki/List_of_postal_codes_of_Canada:_M'"
   ]
  },
  {
   "cell_type": "code",
   "execution_count": 393,
   "metadata": {},
   "outputs": [],
   "source": [
    "# Using pandas to read html\n",
    "df_wiki = pd.read_html(url_data)\n",
    "\n",
    "# Capture only the table data\n",
    "df = df_wiki[0]\n"
   ]
  },
  {
   "cell_type": "code",
   "execution_count": 394,
   "metadata": {},
   "outputs": [],
   "source": [
    "# Remove rows with \"Not assigned\"\n",
    "df = df[df.Neighbourhood != 'Not assigned']\n"
   ]
  },
  {
   "cell_type": "markdown",
   "metadata": {},
   "source": [
    "Editing the records to allow one or more neighborhood in one postal code area"
   ]
  },
  {
   "cell_type": "code",
   "execution_count": 395,
   "metadata": {},
   "outputs": [],
   "source": [
    "# Unique postcode\n",
    "postcodes = df.Postcode.unique()"
   ]
  },
  {
   "cell_type": "code",
   "execution_count": 396,
   "metadata": {},
   "outputs": [],
   "source": [
    "new_df = []\n",
    "for i in range(len(postcodes)):\n",
    "    idx = df.loc[df['Postcode'] == postcodes[i]]\n",
    "    str_found = pd.DataFrame(idx.Neighbourhood)\n",
    "    [r, c] = str_found.shape\n",
    "    neighborhood_name = []\n",
    "    for j in range(r):\n",
    "        neighborhood_name.append(str_found.iat[j,0])\n",
    "    tmp = [postcodes[i], df.iloc[i]['Borough'], neighborhood_name]\n",
    "    new_df.append(tmp)\n"
   ]
  },
  {
   "cell_type": "code",
   "execution_count": 397,
   "metadata": {},
   "outputs": [
    {
     "data": {
      "text/plain": [
       "[['M3A', 'North York', ['Parkwoods']],\n",
       " ['M4A', 'North York', ['Victoria Village']],\n",
       " ['M5A', 'Downtown Toronto', ['Harbourfront', 'Regent Park']],\n",
       " ['M6A', 'Downtown Toronto', ['Lawrence Heights', 'Lawrence Manor']],\n",
       " ['M9A', 'North York', ['Islington Avenue']],\n",
       " ['M1B', 'North York', ['Rouge', 'Malvern']],\n",
       " ['M3B', 'Etobicoke', ['Don Mills North']],\n",
       " ['M4B', 'Scarborough', ['Woodbine Gardens', 'Parkview Hill']],\n",
       " ['M5B', 'Scarborough', ['Ryerson', 'Garden District']],\n",
       " ['M6B', 'North York', ['Glencairn']],\n",
       " ['M9B',\n",
       "  'East York',\n",
       "  ['Cloverdale',\n",
       "   'Islington',\n",
       "   'Martin Grove',\n",
       "   'Princess Gardens',\n",
       "   'West Deane Park']],\n",
       " ['M1C', 'East York', ['Highland Creek', 'Rouge Hill', 'Port Union']],\n",
       " ['M3C', 'Downtown Toronto', ['Flemingdon Park', 'Don Mills South']],\n",
       " ['M4C', 'Downtown Toronto', ['Woodbine Heights']],\n",
       " ['M5C', 'North York', ['St. James Town']],\n",
       " ['M6C', 'Etobicoke', ['Humewood-Cedarvale']],\n",
       " ['M9C',\n",
       "  'Etobicoke',\n",
       "  ['Bloordale Gardens', 'Eringate', 'Markland Wood', 'Old Burnhamthorpe']],\n",
       " ['M1E', 'Etobicoke', ['Guildwood', 'Morningside', 'West Hill']],\n",
       " ['M4E', 'Etobicoke', ['The Beaches']],\n",
       " ['M5E', 'Etobicoke', ['Berczy Park']],\n",
       " ['M6E', 'Scarborough', ['Caledonia-Fairbanks']],\n",
       " ['M1G', 'Scarborough', ['Woburn']],\n",
       " ['M4G', 'Scarborough', ['Leaside']],\n",
       " ['M5G', 'North York', ['Central Bay Street']],\n",
       " ['M6G', 'North York', ['Christie']],\n",
       " ['M1H', 'East York', ['Cedarbrae']],\n",
       " ['M2H', 'Downtown Toronto', ['Hillcrest Village']],\n",
       " ['M3H', 'York', ['Bathurst Manor', 'Downsview North', 'Wilson Heights']],\n",
       " ['M4H', 'Etobicoke', ['Thorncliffe Park']],\n",
       " ['M5H', 'Etobicoke', ['Adelaide', 'King', 'Richmond']],\n",
       " ['M6H', 'Etobicoke', ['Dovercourt Village', 'Dufferin']],\n",
       " ['M1J', 'Etobicoke', ['Scarborough Village']],\n",
       " ['M2J', 'Scarborough', ['Fairview', 'Henry Farm', 'Oriole']],\n",
       " ['M3J', 'Scarborough', ['Northwood Park', 'York University']],\n",
       " ['M4J', 'Scarborough', ['East Toronto']],\n",
       " ['M5J',\n",
       "  'East Toronto',\n",
       "  ['Harbourfront East', 'Toronto Islands', 'Union Station']],\n",
       " ['M6J', 'Downtown Toronto', ['Little Portugal', 'Trinity']],\n",
       " ['M1K', 'York', ['East Birchmount Park', 'Ionview', 'Kennedy Park']],\n",
       " ['M2K', 'Scarborough', ['Bayview Village']],\n",
       " ['M3K', 'East York', ['CFB Toronto', 'Downsview East']],\n",
       " ['M4K', 'Downtown Toronto', ['The Danforth West', 'Riverdale']],\n",
       " ['M5K', 'Downtown Toronto', ['Design Exchange', 'Toronto Dominion Centre']],\n",
       " ['M6K', 'Scarborough', ['Brockton', 'Exhibition Place', 'Parkdale Village']],\n",
       " ['M1L', 'North York', ['Clairlea', 'Golden Mile', 'Oakridge']],\n",
       " ['M2L', 'North York', ['Silver Hills', 'York Mills']],\n",
       " ['M3L', 'North York', ['Downsview West']],\n",
       " ['M4L', 'North York', ['The Beaches West', 'India Bazaar']],\n",
       " ['M5L', 'East York', ['Commerce Court', 'Victoria Hotel']],\n",
       " ['M6L', 'Downtown Toronto', ['Downsview', 'North Park', 'Upwood Park']],\n",
       " ['M9L', 'Downtown Toronto', ['Humber Summit']],\n",
       " ['M1M',\n",
       "  'Downtown Toronto',\n",
       "  ['Cliffcrest', 'Cliffside', 'Scarborough Village West']],\n",
       " ['M2M', 'West Toronto', ['Newtonbrook', 'Willowdale']],\n",
       " ['M3M', 'West Toronto', ['Downsview Central']],\n",
       " ['M4M', 'Scarborough', ['Studio District']],\n",
       " ['M5M', 'North York', ['Bedford Park', 'Lawrence Manor East']],\n",
       " ['M6M',\n",
       "  'North York',\n",
       "  ['Del Ray', 'Keelesdale', 'Mount Dennis', 'Silverthorn']],\n",
       " ['M9M', 'North York', ['Emery', 'Humberlea']],\n",
       " ['M1N', 'North York', ['Birch Cliff', 'Cliffside West']],\n",
       " ['M2N', 'North York', ['Willowdale South']],\n",
       " ['M3N', 'East York', ['Downsview Northwest']],\n",
       " ['M4N', 'Downtown Toronto', ['Lawrence Park']],\n",
       " ['M5N', 'Downtown Toronto', ['Roselawn']],\n",
       " ['M6N', 'Downtown Toronto', ['The Junction North', 'Runnymede']],\n",
       " ['M9N', 'West Toronto', ['Weston']],\n",
       " ['M1P',\n",
       "  'West Toronto',\n",
       "  ['Dorset Park', 'Scarborough Town Centre', 'Wexford Heights']],\n",
       " ['M2P', 'Scarborough', ['York Mills West']],\n",
       " ['M4P', 'Scarborough', ['Davisville North']],\n",
       " ['M5P', 'Scarborough', ['Forest Hill North', 'Forest Hill West']],\n",
       " ['M6P', 'North York', ['High Park', 'The Junction South']],\n",
       " ['M9P', 'North York', ['Westmount']],\n",
       " ['M1R', 'North York', ['Maryvale', 'Wexford']],\n",
       " ['M2R', 'East Toronto', ['Willowdale West']],\n",
       " ['M4R', 'East Toronto', ['North Toronto West']],\n",
       " ['M5R', 'Downtown Toronto', ['The Annex', 'North Midtown', 'Yorkville']],\n",
       " ['M6R', 'Downtown Toronto', ['Parkdale', 'Roncesvalles']],\n",
       " ['M7R', 'West Toronto', ['Canada Post Gateway Processing Centre']],\n",
       " ['M9R',\n",
       "  'West Toronto',\n",
       "  ['Kingsview Village',\n",
       "   'Martin Grove Gardens',\n",
       "   'Richview Gardens',\n",
       "   'St. Phillips']],\n",
       " ['M1S', 'West Toronto', ['Agincourt']],\n",
       " ['M4S', 'Scarborough', ['Davisville']],\n",
       " ['M5S', 'Scarborough', ['Harbord', 'University of Toronto']],\n",
       " ['M6S', 'Scarborough', ['Runnymede', 'Swansea']],\n",
       " ['M1T', 'North York', ['Clarks Corners', 'Sullivan', \"Tam O'Shanter\"]],\n",
       " ['M4T', 'North York', ['Moore Park', 'Summerhill East']],\n",
       " ['M5T', 'North York', ['Chinatown', 'Grange Park', 'Kensington Market']],\n",
       " ['M1V',\n",
       "  'East Toronto',\n",
       "  ['Agincourt North', \"L'Amoreaux East\", 'Milliken', 'Steeles East']],\n",
       " ['M4V',\n",
       "  'East Toronto',\n",
       "  ['Deer Park',\n",
       "   'Forest Hill SE',\n",
       "   'Rathnelly',\n",
       "   'South Hill',\n",
       "   'Summerhill West']],\n",
       " ['M5V',\n",
       "  'Downtown Toronto',\n",
       "  ['CN Tower',\n",
       "   'Bathurst Quay',\n",
       "   'Island airport',\n",
       "   'Harbourfront West',\n",
       "   'King and Spadina',\n",
       "   'Railway Lands',\n",
       "   'South Niagara']],\n",
       " ['M8V',\n",
       "  'Downtown Toronto',\n",
       "  ['Humber Bay Shores', 'Mimico South', 'New Toronto']],\n",
       " ['M9V',\n",
       "  'North York',\n",
       "  ['Albion Gardens',\n",
       "   'Beaumond Heights',\n",
       "   'Humbergate',\n",
       "   'Jamestown',\n",
       "   'Mount Olive',\n",
       "   'Silverstone',\n",
       "   'South Steeles',\n",
       "   'Thistletown']],\n",
       " ['M1W', 'North York', [\"L'Amoreaux West\"]],\n",
       " ['M4W', 'North York', ['Rosedale']],\n",
       " ['M5W', 'North York', ['Stn A PO Boxes 25 The Esplanade']],\n",
       " ['M8W', 'Scarborough', ['Alderwood', 'Long Branch']],\n",
       " ['M9W', 'Scarborough', ['Northwest']],\n",
       " ['M1X', 'Scarborough', ['Upper Rouge']],\n",
       " ['M4X', 'North York', ['Cabbagetown', 'St. James Town']],\n",
       " ['M5X', 'North York', ['First Canadian Place', 'Underground city']],\n",
       " ['M8X', 'North York', ['The Kingsway', 'Montgomery Road', 'Old Mill North']],\n",
       " ['M4Y', 'East Toronto', ['Church and Wellesley']],\n",
       " ['M7Y', 'North York', ['Business Reply Mail Processing Centre 969 Eastern']],\n",
       " ['M8Y',\n",
       "  'North York',\n",
       "  ['Humber Bay',\n",
       "   \"King's Mill Park\",\n",
       "   'Kingsway Park South East',\n",
       "   'Mimico NE',\n",
       "   'Old Mill South',\n",
       "   'The Queensway East',\n",
       "   'Royal York South East',\n",
       "   'Sunnylea']],\n",
       " ['M8Z',\n",
       "  'York',\n",
       "  ['Kingsway Park South West',\n",
       "   'Mimico NW',\n",
       "   'The Queensway West',\n",
       "   'Royal York South West',\n",
       "   'South of Bloor']]]"
      ]
     },
     "execution_count": 397,
     "metadata": {},
     "output_type": "execute_result"
    }
   ],
   "source": [
    "new_df"
   ]
  },
  {
   "cell_type": "code",
   "execution_count": 398,
   "metadata": {},
   "outputs": [],
   "source": [
    "new_df = pd.DataFrame(new_df, columns = ['Postcode','Borough' , 'Neighbourhood'])"
   ]
  },
  {
   "cell_type": "code",
   "execution_count": 399,
   "metadata": {},
   "outputs": [
    {
     "data": {
      "text/plain": [
       "(102, 3)"
      ]
     },
     "execution_count": 399,
     "metadata": {},
     "output_type": "execute_result"
    }
   ],
   "source": [
    "new_df.shape"
   ]
  },
  {
   "cell_type": "code",
   "execution_count": null,
   "metadata": {},
   "outputs": [],
   "source": []
  }
 ],
 "metadata": {
  "kernelspec": {
   "display_name": "Python 3",
   "language": "python",
   "name": "python3"
  },
  "language_info": {
   "codemirror_mode": {
    "name": "ipython",
    "version": 3
   },
   "file_extension": ".py",
   "mimetype": "text/x-python",
   "name": "python",
   "nbconvert_exporter": "python",
   "pygments_lexer": "ipython3",
   "version": "3.7.3"
  }
 },
 "nbformat": 4,
 "nbformat_minor": 2
}
